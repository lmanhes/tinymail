{
 "cells": [
  {
   "cell_type": "code",
   "execution_count": 95,
   "id": "8412311f",
   "metadata": {},
   "outputs": [],
   "source": [
    "import emails\n",
    "from emails.template import JinjaTemplate as T\n",
    "from PIL import Image\n",
    "from lxml import html\n",
    "from itsdangerous import URLSafeTimedSerializer\n",
    "from loguru import logger"
   ]
  },
  {
   "cell_type": "code",
   "execution_count": 98,
   "id": "afbc2c2c",
   "metadata": {},
   "outputs": [],
   "source": [
    "MOKOMO_MAIL_ADDRESS = \"mokomo.pro@gmail.com\"\n",
    "MOKOMO_MAIL_PWD = \"6vkpTFgV@v#DU&\"\n",
    "\n",
    "CONF_TOKEN_SECRET_KEY = \"0ce1091d-3d54-4bc6-b51a-91b804168dad\"\n",
    "CONF_TOKEN_PASSWORD_SALT = \"baa66e1b-2fd4-4c5f-8150-1004843060eb\""
   ]
  },
  {
   "cell_type": "code",
   "execution_count": 100,
   "id": "296fb1c6",
   "metadata": {},
   "outputs": [],
   "source": [
    "def generate_confirmation_token(id_to_encode: str):\n",
    "    serializer = URLSafeTimedSerializer(CONF_TOKEN_SECRET_KEY)\n",
    "    return serializer.dumps(id_to_encode, salt=CONF_TOKEN_PASSWORD_SALT)\n",
    "\n",
    "\n",
    "def confirm_token(token):\n",
    "    serializer = URLSafeTimedSerializer(CONF_TOKEN_SECRET_KEY)\n",
    "    try:\n",
    "        decoded_id = serializer.loads(\n",
    "            token,\n",
    "            salt=CONF_TOKEN_PASSWORD_SALT\n",
    "        )\n",
    "    except:\n",
    "        logger.info(\"token is not valid\")\n",
    "        return False\n",
    "    return decoded_id"
   ]
  },
  {
   "cell_type": "code",
   "execution_count": 101,
   "id": "92fb1865",
   "metadata": {},
   "outputs": [],
   "source": [
    "def add_unsubscribe_link(html_template: str, contact_id: str, target_base_url: str) -> str:\n",
    "    token = generate_confirmation_token(contact_id)\n",
    "    unsubscribe_url = target_base_url + f\"/{token}\"\n",
    "    unsubscribe_link = f\"\"\"\n",
    "    <div class=\"footer\" style=\"clear: both; margin-top: 30px; width: 100%; font-size: 10px;\">\n",
    "        <br> Vous ne souhaitez plus recevoir ces emails ? <a href={unsubscribe_url} style=\"text-decoration: underline; color: #999999; text-align: center;\">Se désinscrire</a>.\n",
    "    </div>\"\"\"\n",
    "    element = html.fromstring(unsubscribe_link)\n",
    "    html_template_tree = html.fromstring(html_template)\n",
    "    html_template_tree.body.append(element)\n",
    "    return html.tostring(html_template_tree).decode(\"utf-8\")"
   ]
  },
  {
   "cell_type": "code",
   "execution_count": 102,
   "id": "e5429f69",
   "metadata": {},
   "outputs": [],
   "source": [
    "def add_pixel_link(html_template: str, email_id: str, target_base_url: str):\n",
    "    token = generate_confirmation_token(email_id)\n",
    "    image_url = target_base_url + f\"/{token}\"\n",
    "    pixel_link = f\"<img src={image_url} height='0px' width='0px'/>\"\n",
    "    element = html.fromstring(pixel_link)\n",
    "    html_template_tree = html.fromstring(html_template)\n",
    "    html_template_tree.body.append(element)\n",
    "    return html.tostring(html_template_tree).decode(\"utf-8\")"
   ]
  },
  {
   "cell_type": "code",
   "execution_count": 103,
   "id": "5b8e0232",
   "metadata": {},
   "outputs": [],
   "source": [
    "def send_test_email(user_email: str, html_template: str):\n",
    "    message = emails.html(subject=T('Votre compte Mokomo a été créé'),\n",
    "                          html=T(html_template),\n",
    "                          mail_from=('Mokomo', MOKOMO_MAIL_ADDRESS))\n",
    "        \n",
    "    message.send(\n",
    "        to=user_email,\n",
    "        smtp={\n",
    "            \"host\": \"smtp.gmail.com\",\n",
    "            \"port\": 465,\n",
    "            \"ssl\": True,\n",
    "            \"user\": MOKOMO_MAIL_ADDRESS,\n",
    "            \"password\": MOKOMO_MAIL_PWD})"
   ]
  },
  {
   "cell_type": "code",
   "execution_count": 104,
   "id": "ba082ef0",
   "metadata": {},
   "outputs": [],
   "source": [
    "html_template = \"\"\"\n",
    "<html>\n",
    "    <body>\n",
    "        <div style=\"font-size: 14px;\">\n",
    "            <p>\n",
    "                Bonjour,<br><br>\n",
    "                Merci d’avoir rejoint Mokomo.<br><br>\n",
    "                L’équipe Mokomo.\n",
    "            </p>\n",
    "        </div>\n",
    "    </body>\n",
    "</html>\n",
    "\"\"\""
   ]
  },
  {
   "cell_type": "code",
   "execution_count": 112,
   "id": "14f41662",
   "metadata": {},
   "outputs": [],
   "source": [
    "html_templated_unsubscribe = add_unsubscribe_link(html_template, contact_id=\"lmanhes\", target_base_url=\"http://127.0.0.1:8000/unsubscribe\")"
   ]
  },
  {
   "cell_type": "code",
   "execution_count": 113,
   "id": "7f1416c2",
   "metadata": {},
   "outputs": [],
   "source": [
    "html_templated_pixel = add_pixel_link(html_templated_unsubscribe, email_id=\"YOOOOO\", target_base_url=\"http://127.0.0.1:8000/pixel\")"
   ]
  },
  {
   "cell_type": "code",
   "execution_count": 114,
   "id": "8ac6a837",
   "metadata": {},
   "outputs": [
    {
     "data": {
      "text/plain": [
       "'<html>\\n    <body>\\n        <div style=\"font-size: 14px;\">\\n            <p>\\n                Bonjour,<br><br>\\n                Merci d&#8217;avoir rejoint Mokomo.<br><br>\\n                L&#8217;&#233;quipe Mokomo.\\n            </p>\\n        </div>\\n    <div class=\"footer\" style=\"clear: both; margin-top: 30px; width: 100%; font-size: 10px;\">\\n        <br> Vous ne souhaitez plus recevoir ces emails ? <a href=\"http://127.0.0.1:8000/unsubscribe/ImxtYW5oZXMi.YpXIkQ.DHKjyaHlJyt8PDaYAH1ag6vFQBU\" style=\"text-decoration: underline; color: #999999; text-align: center;\">Se d&#233;sinscrire</a>.\\n    </div><img src=\"http://127.0.0.1:8000/pixel/IllPT09PTyI.YpXIkQ.9yTEhSISzi-X-8DDaO_PKjACzxs\" height=\"0px\" width=\"0px\"></body>\\n</html>'"
      ]
     },
     "execution_count": 114,
     "metadata": {},
     "output_type": "execute_result"
    }
   ],
   "source": [
    "html_templated_pixel"
   ]
  },
  {
   "cell_type": "code",
   "execution_count": 115,
   "id": "b45a7084",
   "metadata": {},
   "outputs": [],
   "source": [
    "send_test_email(user_email=\"louismanhes@icloud.com\", html_template=html_templated_pixel)"
   ]
  },
  {
   "cell_type": "code",
   "execution_count": null,
   "id": "a6e8460e",
   "metadata": {},
   "outputs": [],
   "source": []
  }
 ],
 "metadata": {
  "kernelspec": {
   "display_name": "tinymail",
   "language": "python",
   "name": "tinymail"
  },
  "language_info": {
   "codemirror_mode": {
    "name": "ipython",
    "version": 3
   },
   "file_extension": ".py",
   "mimetype": "text/x-python",
   "name": "python",
   "nbconvert_exporter": "python",
   "pygments_lexer": "ipython3",
   "version": "3.10.4"
  }
 },
 "nbformat": 4,
 "nbformat_minor": 5
}

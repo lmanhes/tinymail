{
 "cells": [
  {
   "cell_type": "code",
   "execution_count": 1,
   "id": "12e37451",
   "metadata": {},
   "outputs": [],
   "source": [
    "import sys, os\n",
    "sys.path.append(\"..\")\n",
    "from sqlmodel import select, func\n",
    "from datetime import datetime, timezone, timedelta\n",
    "import random\n",
    "\n",
    "from app.db import get_session, Session, engine\n",
    "from app.models import Contact, Campaign, ContactCampaignLink, Mail\n",
    "from app.api.mails import crud_mail"
   ]
  },
  {
   "cell_type": "code",
   "execution_count": 3,
   "id": "9dee6b51",
   "metadata": {},
   "outputs": [],
   "source": [
    "session = Session(engine)"
   ]
  },
  {
   "cell_type": "code",
   "execution_count": 5,
   "id": "958859c0",
   "metadata": {},
   "outputs": [
    {
     "name": "stdout",
     "output_type": "stream",
     "text": [
      "2022-06-10 08:31:44,446 INFO sqlalchemy.engine.Engine SELECT mail.time_send, mail.is_open, mail.id, mail.contact_id \n",
      "FROM mail \n",
      "WHERE mail.time_send >= %(time_send_1)s\n",
      "2022-06-10 08:31:44,448 INFO sqlalchemy.engine.Engine [no key 0.00226s] {'time_send_1': datetime.datetime(2022, 6, 9, 6, 31, 44, 444139, tzinfo=datetime.timezone.utc)}\n",
      "CPU times: user 6.9 ms, sys: 2.63 ms, total: 9.53 ms\n",
      "Wall time: 12.7 ms\n"
     ]
    },
    {
     "data": {
      "text/plain": [
       "3"
      ]
     },
     "execution_count": 5,
     "metadata": {},
     "output_type": "execute_result"
    }
   ],
   "source": [
    "%time Mail.day_count(session)"
   ]
  },
  {
   "cell_type": "code",
   "execution_count": 77,
   "id": "70d7b2f7",
   "metadata": {},
   "outputs": [
    {
     "name": "stdout",
     "output_type": "stream",
     "text": [
      "2022-06-03 12:04:13,769 INFO sqlalchemy.engine.Engine SELECT mail.time_send, mail.is_open, mail.id, mail.contact_id \n",
      "FROM mail \n",
      "WHERE mail.time_send >= %(time_send_1)s\n",
      "2022-06-03 12:04:13,771 INFO sqlalchemy.engine.Engine [no key 0.00189s] {'time_send_1': datetime.datetime(2022, 5, 4, 10, 4, 13, 768035, tzinfo=datetime.timezone.utc)}\n"
     ]
    },
    {
     "data": {
      "text/plain": [
       "2"
      ]
     },
     "execution_count": 77,
     "metadata": {},
     "output_type": "execute_result"
    }
   ],
   "source": [
    "len(session.exec(select(Mail).where(Mail.time_send >= (datetime.now(timezone.utc)  - timedelta(days=30)))).all())"
   ]
  },
  {
   "cell_type": "code",
   "execution_count": null,
   "id": "ba6498e8",
   "metadata": {},
   "outputs": [],
   "source": []
  },
  {
   "cell_type": "code",
   "execution_count": 19,
   "id": "db5a879b",
   "metadata": {},
   "outputs": [
    {
     "data": {
      "text/plain": [
       "(datetime.datetime(2022, 6, 3, 9, 46, 46, 832387, tzinfo=datetime.timezone.utc),\n",
       " datetime.datetime(2022, 5, 4, 9, 46, 46, 832387, tzinfo=datetime.timezone.utc))"
      ]
     },
     "execution_count": 19,
     "metadata": {},
     "output_type": "execute_result"
    }
   ],
   "source": [
    "now = datetime.now(timezone.utc) \n",
    "now, now - timedelta(days = 30) "
   ]
  },
  {
   "cell_type": "code",
   "execution_count": 44,
   "id": "fb7b2f15",
   "metadata": {},
   "outputs": [
    {
     "name": "stdout",
     "output_type": "stream",
     "text": [
      "2022-06-03 11:49:49,865 INFO sqlalchemy.engine.Engine SELECT mail.time_send, mail.is_open, mail.id, mail.contact_id \n",
      "FROM mail\n",
      "2022-06-03 11:49:49,867 INFO sqlalchemy.engine.Engine [no key 0.00242s] {}\n",
      "delta :  30\n",
      "delta :  40\n",
      "delta :  31\n",
      "delta :  22\n",
      "delta :  27\n",
      "delta :  43\n",
      "delta :  46\n",
      "delta :  48\n"
     ]
    }
   ],
   "source": [
    "mails = session.exec(select(Mail)).all()\n",
    "for mail in mails:\n",
    "    delta_days = random.randint(10, 50)\n",
    "    print(\"delta : \", delta_days)\n",
    "    t_send = datetime.now(timezone.utc)  - timedelta(days = delta_days) \n",
    "    mail.time_send = t_send"
   ]
  },
  {
   "cell_type": "code",
   "execution_count": 45,
   "id": "4a6a6b80",
   "metadata": {},
   "outputs": [
    {
     "name": "stdout",
     "output_type": "stream",
     "text": [
      "2022-06-03 11:50:09,526 INFO sqlalchemy.engine.Engine UPDATE mail SET time_send=%(time_send)s WHERE mail.id = %(mail_id)s\n",
      "2022-06-03 11:50:09,529 INFO sqlalchemy.engine.Engine [generated in 0.00336s] ({'time_send': datetime.datetime(2022, 5, 4, 9, 49, 49, 871067, tzinfo=datetime.timezone.utc), 'mail_id': 2}, {'time_send': datetime.datetime(2022, 4, 24, 9, 49, 49, 871276, tzinfo=datetime.timezone.utc), 'mail_id': 3}, {'time_send': datetime.datetime(2022, 5, 3, 9, 49, 49, 871388, tzinfo=datetime.timezone.utc), 'mail_id': 4}, {'time_send': datetime.datetime(2022, 5, 12, 9, 49, 49, 871498, tzinfo=datetime.timezone.utc), 'mail_id': 5}, {'time_send': datetime.datetime(2022, 5, 7, 9, 49, 49, 871605, tzinfo=datetime.timezone.utc), 'mail_id': 6}, {'time_send': datetime.datetime(2022, 4, 21, 9, 49, 49, 871711, tzinfo=datetime.timezone.utc), 'mail_id': 7}, {'time_send': datetime.datetime(2022, 4, 18, 9, 49, 49, 871817, tzinfo=datetime.timezone.utc), 'mail_id': 8}, {'time_send': datetime.datetime(2022, 4, 16, 9, 49, 49, 871926, tzinfo=datetime.timezone.utc), 'mail_id': 9})\n",
      "2022-06-03 11:50:09,535 INFO sqlalchemy.engine.Engine COMMIT\n"
     ]
    }
   ],
   "source": [
    "session.commit()"
   ]
  },
  {
   "cell_type": "code",
   "execution_count": 11,
   "id": "e822e57d",
   "metadata": {},
   "outputs": [
    {
     "name": "stdout",
     "output_type": "stream",
     "text": [
      "2022-06-03 11:42:41,851 INFO sqlalchemy.engine.Engine INSERT INTO mail (time_send, is_open, contact_id) VALUES (%(time_send)s, %(is_open)s, %(contact_id)s) RETURNING mail.id\n",
      "2022-06-03 11:42:41,853 INFO sqlalchemy.engine.Engine [cached since 25.74s ago] {'time_send': None, 'is_open': False, 'contact_id': None}\n",
      "2022-06-03 11:42:41,856 INFO sqlalchemy.engine.Engine COMMIT\n",
      "2022-06-03 11:42:41,859 INFO sqlalchemy.engine.Engine BEGIN (implicit)\n",
      "2022-06-03 11:42:41,860 INFO sqlalchemy.engine.Engine SELECT mail.time_send, mail.is_open, mail.id, mail.contact_id \n",
      "FROM mail \n",
      "WHERE mail.id = %(pk_1)s\n",
      "2022-06-03 11:42:41,861 INFO sqlalchemy.engine.Engine [cached since 25.73s ago] {'pk_1': 4}\n",
      "2022-06-03 11:42:41,864 INFO sqlalchemy.engine.Engine INSERT INTO mail (time_send, is_open, contact_id) VALUES (%(time_send)s, %(is_open)s, %(contact_id)s) RETURNING mail.id\n",
      "2022-06-03 11:42:41,865 INFO sqlalchemy.engine.Engine [cached since 25.75s ago] {'time_send': None, 'is_open': False, 'contact_id': None}\n",
      "2022-06-03 11:42:41,867 INFO sqlalchemy.engine.Engine COMMIT\n",
      "2022-06-03 11:42:41,869 INFO sqlalchemy.engine.Engine BEGIN (implicit)\n",
      "2022-06-03 11:42:41,870 INFO sqlalchemy.engine.Engine SELECT mail.time_send, mail.is_open, mail.id, mail.contact_id \n",
      "FROM mail \n",
      "WHERE mail.id = %(pk_1)s\n",
      "2022-06-03 11:42:41,871 INFO sqlalchemy.engine.Engine [cached since 25.74s ago] {'pk_1': 5}\n",
      "2022-06-03 11:42:41,873 INFO sqlalchemy.engine.Engine INSERT INTO mail (time_send, is_open, contact_id) VALUES (%(time_send)s, %(is_open)s, %(contact_id)s) RETURNING mail.id\n",
      "2022-06-03 11:42:41,874 INFO sqlalchemy.engine.Engine [cached since 25.76s ago] {'time_send': None, 'is_open': False, 'contact_id': None}\n",
      "2022-06-03 11:42:41,876 INFO sqlalchemy.engine.Engine COMMIT\n",
      "2022-06-03 11:42:41,878 INFO sqlalchemy.engine.Engine BEGIN (implicit)\n",
      "2022-06-03 11:42:41,879 INFO sqlalchemy.engine.Engine SELECT mail.time_send, mail.is_open, mail.id, mail.contact_id \n",
      "FROM mail \n",
      "WHERE mail.id = %(pk_1)s\n",
      "2022-06-03 11:42:41,880 INFO sqlalchemy.engine.Engine [cached since 25.75s ago] {'pk_1': 6}\n",
      "2022-06-03 11:42:41,882 INFO sqlalchemy.engine.Engine INSERT INTO mail (time_send, is_open, contact_id) VALUES (%(time_send)s, %(is_open)s, %(contact_id)s) RETURNING mail.id\n",
      "2022-06-03 11:42:41,883 INFO sqlalchemy.engine.Engine [cached since 25.77s ago] {'time_send': None, 'is_open': False, 'contact_id': None}\n",
      "2022-06-03 11:42:41,884 INFO sqlalchemy.engine.Engine COMMIT\n",
      "2022-06-03 11:42:41,885 INFO sqlalchemy.engine.Engine BEGIN (implicit)\n",
      "2022-06-03 11:42:41,885 INFO sqlalchemy.engine.Engine SELECT mail.time_send, mail.is_open, mail.id, mail.contact_id \n",
      "FROM mail \n",
      "WHERE mail.id = %(pk_1)s\n",
      "2022-06-03 11:42:41,886 INFO sqlalchemy.engine.Engine [cached since 25.76s ago] {'pk_1': 7}\n",
      "2022-06-03 11:42:41,887 INFO sqlalchemy.engine.Engine INSERT INTO mail (time_send, is_open, contact_id) VALUES (%(time_send)s, %(is_open)s, %(contact_id)s) RETURNING mail.id\n",
      "2022-06-03 11:42:41,888 INFO sqlalchemy.engine.Engine [cached since 25.77s ago] {'time_send': None, 'is_open': False, 'contact_id': None}\n",
      "2022-06-03 11:42:41,889 INFO sqlalchemy.engine.Engine COMMIT\n",
      "2022-06-03 11:42:41,891 INFO sqlalchemy.engine.Engine BEGIN (implicit)\n",
      "2022-06-03 11:42:41,892 INFO sqlalchemy.engine.Engine SELECT mail.time_send, mail.is_open, mail.id, mail.contact_id \n",
      "FROM mail \n",
      "WHERE mail.id = %(pk_1)s\n",
      "2022-06-03 11:42:41,892 INFO sqlalchemy.engine.Engine [cached since 25.76s ago] {'pk_1': 8}\n",
      "2022-06-03 11:42:41,894 INFO sqlalchemy.engine.Engine INSERT INTO mail (time_send, is_open, contact_id) VALUES (%(time_send)s, %(is_open)s, %(contact_id)s) RETURNING mail.id\n",
      "2022-06-03 11:42:41,895 INFO sqlalchemy.engine.Engine [cached since 25.78s ago] {'time_send': None, 'is_open': False, 'contact_id': None}\n",
      "2022-06-03 11:42:41,896 INFO sqlalchemy.engine.Engine COMMIT\n",
      "2022-06-03 11:42:41,897 INFO sqlalchemy.engine.Engine BEGIN (implicit)\n",
      "2022-06-03 11:42:41,898 INFO sqlalchemy.engine.Engine SELECT mail.time_send, mail.is_open, mail.id, mail.contact_id \n",
      "FROM mail \n",
      "WHERE mail.id = %(pk_1)s\n",
      "2022-06-03 11:42:41,898 INFO sqlalchemy.engine.Engine [cached since 25.77s ago] {'pk_1': 9}\n"
     ]
    }
   ],
   "source": [
    "for i in range(6):\n",
    "    crud_mail.create(session=session, obj={\"contact_id\": 1})"
   ]
  },
  {
   "cell_type": "code",
   "execution_count": null,
   "id": "b34644f8",
   "metadata": {},
   "outputs": [],
   "source": []
  },
  {
   "cell_type": "code",
   "execution_count": 4,
   "id": "589c0edd",
   "metadata": {},
   "outputs": [
    {
     "name": "stdout",
     "output_type": "stream",
     "text": [
      "2022-06-03 11:38:55,894 INFO sqlalchemy.engine.Engine SELECT contact.meta, contact.email, contact.id \n",
      "FROM contact\n",
      "2022-06-03 11:38:55,896 INFO sqlalchemy.engine.Engine [no key 0.00185s] {}\n"
     ]
    },
    {
     "data": {
      "text/plain": [
       "[Contact(email='louis@genario.co', id=1, meta={'age': 27})]"
      ]
     },
     "execution_count": 4,
     "metadata": {},
     "output_type": "execute_result"
    }
   ],
   "source": [
    "contacts = session.exec(select(Contact)).all()\n",
    "contacts"
   ]
  },
  {
   "cell_type": "code",
   "execution_count": 10,
   "id": "c24a6d97",
   "metadata": {},
   "outputs": [
    {
     "data": {
      "text/plain": [
       "Campaign(id=1, name='first campaign', contacts=[Contact(meta={}, email='louismanhes@icloud.com', id=1, campaigns=[Campaign(id=1, name='first campaign', contacts=[...])]), Contact(meta={}, email='louis@genario.co', id=2)])"
      ]
     },
     "execution_count": 10,
     "metadata": {},
     "output_type": "execute_result"
    }
   ],
   "source": [
    "contacts[0].campaigns[0]"
   ]
  },
  {
   "cell_type": "code",
   "execution_count": null,
   "id": "cc0abe66",
   "metadata": {},
   "outputs": [],
   "source": []
  },
  {
   "cell_type": "code",
   "execution_count": null,
   "id": "6dd4a900",
   "metadata": {},
   "outputs": [],
   "source": []
  },
  {
   "cell_type": "code",
   "execution_count": 2,
   "id": "2c7f6cc7",
   "metadata": {},
   "outputs": [],
   "source": [
    "session = Session(engine)"
   ]
  },
  {
   "cell_type": "code",
   "execution_count": 3,
   "id": "61f191d1",
   "metadata": {},
   "outputs": [
    {
     "name": "stdout",
     "output_type": "stream",
     "text": [
      "2022-06-03 11:38:49,781 INFO sqlalchemy.engine.Engine select pg_catalog.version()\n",
      "2022-06-03 11:38:49,783 INFO sqlalchemy.engine.Engine [raw sql] {}\n",
      "2022-06-03 11:38:49,786 INFO sqlalchemy.engine.Engine select current_schema()\n",
      "2022-06-03 11:38:49,790 INFO sqlalchemy.engine.Engine [raw sql] {}\n",
      "2022-06-03 11:38:49,792 INFO sqlalchemy.engine.Engine show standard_conforming_strings\n",
      "2022-06-03 11:38:49,792 INFO sqlalchemy.engine.Engine [raw sql] {}\n",
      "2022-06-03 11:38:49,795 INFO sqlalchemy.engine.Engine BEGIN (implicit)\n",
      "2022-06-03 11:38:49,811 INFO sqlalchemy.engine.Engine SELECT campaign.name, campaign.id \n",
      "FROM campaign\n",
      "2022-06-03 11:38:49,812 INFO sqlalchemy.engine.Engine [no key 0.00110s] {}\n"
     ]
    },
    {
     "name": "stderr",
     "output_type": "stream",
     "text": [
      "/Users/louismanhes/anaconda3/envs/tinymail/lib/python3.10/site-packages/sqlmodel/orm/session.py:60: SAWarning: Class SelectOfScalar will not make use of SQL compilation caching as it does not set the 'inherit_cache' attribute to ``True``.  This can have significant performance implications including some performance degradations in comparison to prior SQLAlchemy versions.  Set this attribute to True if this object can make use of the cache key generated by the superclass.  Alternatively, this attribute may be set to False which will disable this warning. (Background on this error at: https://sqlalche.me/e/14/cprf)\n",
      "  results = super().execute(\n"
     ]
    },
    {
     "data": {
      "text/plain": [
       "[]"
      ]
     },
     "execution_count": 3,
     "metadata": {},
     "output_type": "execute_result"
    }
   ],
   "source": [
    "campaigns = session.exec(select(Campaign)).all()\n",
    "campaigns"
   ]
  },
  {
   "cell_type": "code",
   "execution_count": 5,
   "id": "c6345f30",
   "metadata": {},
   "outputs": [
    {
     "data": {
      "text/plain": [
       "[Contact(meta={}, email='louismanhes@icloud.com', id=1),\n",
       " Contact(meta={}, email='louis@genario.co', id=2)]"
      ]
     },
     "execution_count": 5,
     "metadata": {},
     "output_type": "execute_result"
    }
   ],
   "source": [
    "campaigns[0].contacts"
   ]
  },
  {
   "cell_type": "code",
   "execution_count": 30,
   "id": "72d422e2",
   "metadata": {},
   "outputs": [
    {
     "name": "stdout",
     "output_type": "stream",
     "text": [
      "2022-06-01 11:52:05,222 INFO sqlalchemy.engine.Engine BEGIN (implicit)\n",
      "2022-06-01 11:52:05,225 INFO sqlalchemy.engine.Engine SELECT contactcampaignlink.campaign_id, contactcampaignlink.contact_id \n",
      "FROM contactcampaignlink\n",
      "2022-06-01 11:52:05,226 INFO sqlalchemy.engine.Engine [no key 0.00119s] {}\n"
     ]
    },
    {
     "data": {
      "text/plain": [
       "[ContactCampaignLink(campaign_id=1, contact_id=1)]"
      ]
     },
     "execution_count": 30,
     "metadata": {},
     "output_type": "execute_result"
    }
   ],
   "source": [
    "contact_campaign_link = session.exec(select(ContactCampaignLink)).all()\n",
    "contact_campaign_link"
   ]
  },
  {
   "cell_type": "code",
   "execution_count": 29,
   "id": "46db8e9e",
   "metadata": {},
   "outputs": [
    {
     "name": "stdout",
     "output_type": "stream",
     "text": [
      "2022-06-01 11:52:01,629 INFO sqlalchemy.engine.Engine INSERT INTO contactcampaignlink (campaign_id, contact_id) VALUES (%(campaign_id)s, %(contact_id)s)\n",
      "2022-06-01 11:52:01,631 INFO sqlalchemy.engine.Engine [generated in 0.00228s] {'campaign_id': 1, 'contact_id': 1}\n",
      "2022-06-01 11:52:01,641 INFO sqlalchemy.engine.Engine COMMIT\n"
     ]
    }
   ],
   "source": [
    "ok = ContactCampaignLink(campaign_id=1, contact_id=1)\n",
    "session.add(ok)\n",
    "session.commit()"
   ]
  },
  {
   "cell_type": "code",
   "execution_count": null,
   "id": "d5139fb5",
   "metadata": {},
   "outputs": [],
   "source": []
  }
 ],
 "metadata": {
  "kernelspec": {
   "display_name": "tinymail",
   "language": "python",
   "name": "tinymail"
  },
  "language_info": {
   "codemirror_mode": {
    "name": "ipython",
    "version": 3
   },
   "file_extension": ".py",
   "mimetype": "text/x-python",
   "name": "python",
   "nbconvert_exporter": "python",
   "pygments_lexer": "ipython3",
   "version": "3.10.4"
  }
 },
 "nbformat": 4,
 "nbformat_minor": 5
}
